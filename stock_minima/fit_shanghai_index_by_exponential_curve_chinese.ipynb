{
 "cells": [
  {
   "cell_type": "markdown",
   "metadata": {
    "collapsed": false
   },
   "source": [
    "# 利用最简单的回归模型看一下上证综指的婴儿底到底在哪里"
   ]
  },
  {
   "cell_type": "markdown",
   "metadata": {},
   "source": [
    "## 基本结论：\n",
    "- 在2016年底，平均的预期股指底部在2694点左右。\n",
    "- 在2016年底，出现比2048更低的最低值的概率有15%。但是同样有15%的概率，股指会一直大于3340。"
   ]
  },
  {
   "cell_type": "markdown",
   "metadata": {},
   "source": [
    "## 分析模型假设：\n",
    "- 股指是按照指数增长,也就是 y=e^x。这个假定太简单，以至于我都没法从学术论文里面找到什么人这么玩。不过直观上看，相信只要中国的GDP按照指数增长，股指也应该类似按照指数增长。因为最后不管是政府撒钱搞通胀，还是实体经济真正增长，只要GDP增长，社会的名义财富增长，那么股指应该是上涨的。这个假定应该只对一段时间有用，比如对于日本这种变成负增长的经济体可能就不成立。所以大家看这个结论的时候可以自己掂量。\n",
    "- 随机因素我们假定按照正态分布，也就是真实的股指底部将按照股指底部的期望值上下服从高斯正态分布。\n",
    "- 最底部的数值是相对稳定的，而最大值是变化更大的。所以本文的模型集中分析股指最底部。\n",
    "\n"
   ]
  },
  {
   "cell_type": "markdown",
   "metadata": {},
   "source": [
    "简单讲这里就是***一个指数增长模型和一个正态分布模型的组合***。这个分析模型是用Jupyter创建的。如果你需要本地运行并验证这个模型，可以下载[Anaconda](https://www.continuum.io/downloads)安装后就有Jupyter，应该就能跑了，如果发现缺的，就用pip安装缺的包就可以了。"
   ]
  },
  {
   "cell_type": "markdown",
   "metadata": {},
   "source": [
    "## 下面是具体的模型分析："
   ]
  },
  {
   "cell_type": "code",
   "execution_count": 22,
   "metadata": {
    "collapsed": false
   },
   "outputs": [],
   "source": [
    "import pandas.io.data as web\n",
    "import datetime\n",
    "import pandas as pd\n",
    "import scipy\n",
    "import numpy as np \n",
    "from scipy.optimize import curve_fit\n",
    "\n",
    "\n",
    "import matplotlib.pyplot as plt\n",
    "%matplotlib inline"
   ]
  },
  {
   "cell_type": "markdown",
   "metadata": {
    "collapsed": false
   },
   "source": [
    "我们的第一步是下载股票指数，这里用Pandas自带的DataReader来读取股票数据。 大概看了一下后，似乎1992年之前股指有个很大的跳升，作为非专业人士，也不知道发生了什么，所以就从看着比较合适的1992年开始到现在进行分析。"
   ]
  },
  {
   "cell_type": "code",
   "execution_count": 23,
   "metadata": {
    "collapsed": false
   },
   "outputs": [],
   "source": [
    "start = datetime.datetime(1992, 8, 12)\n",
    "end = datetime.datetime(2016, 5, 20)\n",
    "\n",
    "\n",
    "# If you want to run this notebook at your local instance, uncomment those lines of code and fetch the latest index from Yahoo again.\n",
    "# Refer to:  http://pandas.pydata.org/pandas-docs/stable/remote_data.html\n",
    "shanghai = web.DataReader(\"000001.SS\", 'yahoo', start, end)\n",
    "\n",
    "#shanghai.to_csv('C:\\qduan\\Stanmo\\stock_minima\\shanghai_index_1992_2016.csv')\n",
    "\n",
    "# I saved and reloaded from this location as a cache for my testing purpose.\n",
    "#shanghai = pd.DataFrame.from_csv('C:\\qduan\\Stanmo\\stock_minima\\shanghai_index_1992_2016.csv')\n",
    "#print(shanghai.count())\n"
   ]
  },
  {
   "cell_type": "markdown",
   "metadata": {},
   "source": [
    "要分析股指对于时间的增长，我们需要把时间转换成做一个实数联系续增长的间隔天数，也就是从开始的1992年开始到每一天的间隔天数\"days\"。我们假定股指是某一个增长率每天\"days\"增长的。\n",
    "然后我们可以简单看一下下载并转换后的数据结构，基本上世界上所有的股票都是监控这几个指标，其中我们将重点分析最低价格\"Low\"。"
   ]
  },
  {
   "cell_type": "code",
   "execution_count": 24,
   "metadata": {
    "collapsed": false
   },
   "outputs": [
    {
     "data": {
      "text/html": [
       "<div>\n",
       "<table border=\"1\" class=\"dataframe\">\n",
       "  <thead>\n",
       "    <tr style=\"text-align: right;\">\n",
       "      <th></th>\n",
       "      <th>Open</th>\n",
       "      <th>High</th>\n",
       "      <th>Low</th>\n",
       "      <th>Close</th>\n",
       "      <th>Volume</th>\n",
       "      <th>Adj Close</th>\n",
       "      <th>date1</th>\n",
       "      <th>days</th>\n",
       "    </tr>\n",
       "    <tr>\n",
       "      <th>Date</th>\n",
       "      <th></th>\n",
       "      <th></th>\n",
       "      <th></th>\n",
       "      <th></th>\n",
       "      <th></th>\n",
       "      <th></th>\n",
       "      <th></th>\n",
       "      <th></th>\n",
       "    </tr>\n",
       "  </thead>\n",
       "  <tbody>\n",
       "    <tr>\n",
       "      <th>1992-08-12</th>\n",
       "      <td>781.21</td>\n",
       "      <td>781.21</td>\n",
       "      <td>781.21</td>\n",
       "      <td>781.21</td>\n",
       "      <td>0</td>\n",
       "      <td>781.21</td>\n",
       "      <td>1992-08-12</td>\n",
       "      <td>0</td>\n",
       "    </tr>\n",
       "    <tr>\n",
       "      <th>1992-08-13</th>\n",
       "      <td>850.94</td>\n",
       "      <td>850.94</td>\n",
       "      <td>850.94</td>\n",
       "      <td>850.94</td>\n",
       "      <td>0</td>\n",
       "      <td>850.94</td>\n",
       "      <td>1992-08-13</td>\n",
       "      <td>1</td>\n",
       "    </tr>\n",
       "    <tr>\n",
       "      <th>1992-08-14</th>\n",
       "      <td>858.38</td>\n",
       "      <td>858.38</td>\n",
       "      <td>858.38</td>\n",
       "      <td>858.38</td>\n",
       "      <td>0</td>\n",
       "      <td>858.38</td>\n",
       "      <td>1992-08-14</td>\n",
       "      <td>2</td>\n",
       "    </tr>\n",
       "    <tr>\n",
       "      <th>1992-08-17</th>\n",
       "      <td>939.46</td>\n",
       "      <td>939.46</td>\n",
       "      <td>939.46</td>\n",
       "      <td>939.46</td>\n",
       "      <td>0</td>\n",
       "      <td>939.46</td>\n",
       "      <td>1992-08-17</td>\n",
       "      <td>5</td>\n",
       "    </tr>\n",
       "    <tr>\n",
       "      <th>1992-08-18</th>\n",
       "      <td>933.44</td>\n",
       "      <td>933.44</td>\n",
       "      <td>933.44</td>\n",
       "      <td>933.44</td>\n",
       "      <td>0</td>\n",
       "      <td>933.44</td>\n",
       "      <td>1992-08-18</td>\n",
       "      <td>6</td>\n",
       "    </tr>\n",
       "  </tbody>\n",
       "</table>\n",
       "</div>"
      ],
      "text/plain": [
       "              Open    High     Low   Close  Volume  Adj Close      date1  days\n",
       "Date                                                                          \n",
       "1992-08-12  781.21  781.21  781.21  781.21       0     781.21 1992-08-12     0\n",
       "1992-08-13  850.94  850.94  850.94  850.94       0     850.94 1992-08-13     1\n",
       "1992-08-14  858.38  858.38  858.38  858.38       0     858.38 1992-08-14     2\n",
       "1992-08-17  939.46  939.46  939.46  939.46       0     939.46 1992-08-17     5\n",
       "1992-08-18  933.44  933.44  933.44  933.44       0     933.44 1992-08-18     6"
      ]
     },
     "execution_count": 24,
     "metadata": {},
     "output_type": "execute_result"
    }
   ],
   "source": [
    "sh = shanghai.copy()\n",
    "sh['date1'] = shanghai.index\n",
    "#http://chrisalbon.com/python/pandas_apply_operations_to_dataframes.html\n",
    "sh['days'] = sh['date1'].apply(lambda x:  (x-start).days)\n",
    "sh.head()"
   ]
  },
  {
   "cell_type": "markdown",
   "metadata": {},
   "source": [
    "下面我们首先利用scipy.argrelextrema找出所有历史上的最低点。这个定义也是我自己瞎拍的，如果大家要自己试一下，可以选择其他更加严格或者放松的参数。\n",
    "我定义的历史最低点是在前轴100个交易日内都没有比当前点位更低的交易日，那么我就认为是一个局部最小了。\n",
    "exp_func函数就是我们假定股指服从的分布，a * np.exp(b * x)，我们需要做的是根据历史上所有最小值来训练出合适的a和b，从而得到一个合理的股指最小值的预测。\n",
    "训练的过程我们还是使用scipy里面的curve_fit函数，curve_fit(exp_func, x_minima, y_minima)。 后面的p0参数是之前训练的时候的输出，从这个开始的话收敛会比较快。"
   ]
  },
  {
   "cell_type": "code",
   "execution_count": 25,
   "metadata": {
    "collapsed": false,
    "scrolled": true
   },
   "outputs": [
    {
     "data": {
      "image/png": "[encoded data removed]",
      "text/plain": [
       "<matplotlib.figure.Figure at 0x1fa61e48>"
      ]
     },
     "metadata": {},
     "output_type": "display_data"
    }
   ],
   "source": [
    "\n",
    "x_all = sh['days'].values\n",
    "y_all = sh['Low'].values\n",
    "\n",
    "# with help of scipy.argrelextrema function, we will first identify all the local minima for later on fitting.\n",
    "# http://docs.scipy.org/doc/scipy-0.17.0/reference/generated/scipy.signal.argrelextrema.html\n",
    "from scipy.signal import argrelextrema\n",
    "local_min_ix =  argrelextrema(y_all, np.less,   order=100)\n",
    "\n",
    "x_minima=x_all[local_min_ix]\n",
    "y_minima=y_all[local_min_ix]\n",
    "\n",
    "def exp_func(x, a, b, c):\n",
    "    return a * np.exp(b * x)\n",
    "popt_minima, pcov_minima = curve_fit(exp_func, x_minima, y_minima, p0=[ 5.69396441e+02,   1.93941219e-04,   2.25849076e+02])\n",
    "\n",
    "plt.figure(figsize=(14,5))\n",
    "plt.plot(x_all, y_all, 'b-', label=\"price vs day\") \n",
    "plt.plot(x_minima, y_minima, 'ro', label=\"Minima\") \n",
    "plt.plot(x_minima, exp_func(x_minima, *popt_minima), 'r-', label=\"Fitted Curve\")\n",
    "plt.legend()\n",
    "plt.show()\n",
    "\n"
   ]
  },
  {
   "cell_type": "markdown",
   "metadata": {},
   "source": [
    "上面的得到的图里面红色的圆点就是每一次的上证最小值。至此，我们已经可以得到在2016年底12月24日（days=8900)股指底部大约应该在2694点，基本是五五开的概率。有50%的概率会出现低于这个值的情况，也有50%的可能永远都高于这个值。"
   ]
  },
  {
   "cell_type": "code",
   "execution_count": 26,
   "metadata": {
    "collapsed": false
   },
   "outputs": [
    {
     "name": "stdout",
     "output_type": "stream",
     "text": [
      "2694.47642153\n"
     ]
    }
   ],
   "source": [
    "## Then we know the expected low end of shanghai index as: \n",
    "print( exp_func(8900, *popt_minima))"
   ]
  },
  {
   "cell_type": "markdown",
   "metadata": {
    "collapsed": false
   },
   "source": [
    "红线是根据前面指数模型训练得到的股指底部的模型预测值。下面的X周仍然是价格天数，不容易看，所以下面转成原始的日期。然后我们增加未来每6个月的时间节点，预测一下股指可能的底部。"
   ]
  },
  {
   "cell_type": "code",
   "execution_count": 27,
   "metadata": {
    "collapsed": false
   },
   "outputs": [],
   "source": [
    "df = pd.DataFrame({'days': x_minima, 'predicted_low':exp_func(x_minima, *popt_minima) })\n",
    "predicted_df = pd.merge(sh, df, on=['days','days'])\n",
    "\n",
    "new_day = 8900\n",
    "predicted_df.loc[start+datetime.timedelta(days=new_day)] =[-1, -1, -1, -1, 0, -1,  start+datetime.timedelta(days=new_day), new_day, exp_func(new_day, *popt_minima)]  # ['predicted_low'] \n",
    "new_day = 9060\n",
    "predicted_df.loc[start+datetime.timedelta(days=new_day)] =[-1, -1, -1, -1, 0, -1,  start+datetime.timedelta(days=new_day), new_day, exp_func(new_day, *popt_minima)]  # ['predicted_low'] \n",
    "new_day = 9250\n",
    "predicted_df.loc[start+datetime.timedelta(days=new_day)] =[-1, -1, -1, -1, 0, -1,  start+datetime.timedelta(days=new_day), new_day, exp_func(new_day, *popt_minima)]  # ['predicted_low'] \n",
    "\n",
    "x_extended=np.append(  x_all[local_min_ix], [8900, 9000, 9100] )"
   ]
  },
  {
   "cell_type": "markdown",
   "metadata": {},
   "source": [
    "虽然前面的预测模型能够给出大概的一个预测值，但是可能还不够精确。所以为了能够更精确的量化底部每个数值可能出现的概率，针对所有的底部我们再训练一个正态分布模型，看看历史上的底部偏离当前模型最多能偏离多少。"
   ]
  },
  {
   "cell_type": "code",
   "execution_count": 28,
   "metadata": {
    "collapsed": false
   },
   "outputs": [
    {
     "data": {
      "image/png": "[encoded data removed]",
      "text/plain": [
       "<matplotlib.figure.Figure at 0x1fa90630>"
      ]
     },
     "metadata": {},
     "output_type": "display_data"
    }
   ],
   "source": [
    "\n",
    "# Calculate the deviations from exponential model according to historical minima\n",
    "data =( exp_func(x_minima, *popt_minima)-y_minima ) / exp_func(x_minima, *popt_minima)\n",
    "# Fit a normal distribution to the historical deviations.\n",
    "mu, std = scipy.stats.norm.fit(data) \n",
    "\n",
    "# Compute the boundary for later ploting.\n",
    "predicted_df['lower_bound'] = predicted_df['predicted_low'].values *(1-std)\n",
    "predicted_df['upper_bound'] = predicted_df['predicted_low'].values *(1+std)\n",
    "\n",
    "plt.figure(figsize=(18,7))\n",
    "plt.plot(sh['date1'].values, y_all, 'b-', label=\"Shanghai Index\") \n",
    "plt.plot(predicted_df[predicted_df.date1<=end]['date1'].values, predicted_df[predicted_df.date1<=end]['Low'].values, 'ro', label=\"Minima\") \n",
    "plt.plot(predicted_df['date1'].values, predicted_df['predicted_low'].values, 'r-', label=\"Predicted Low\")\n",
    "\n",
    "plt.fill_between(predicted_df['date1'].values, \n",
    "                 predicted_df['lower_bound'].values, \n",
    "                 predicted_df['upper_bound'].values, \n",
    "                 facecolor='yellow', alpha=0.5, label='One Sigma Range')\n",
    "plt.legend()\n",
    "plt.show()\n",
    "\n",
    " "
   ]
  },
  {
   "cell_type": "code",
   "execution_count": 29,
   "metadata": {
    "collapsed": false
   },
   "outputs": [
    {
     "data": {
      "text/html": [
       "<div>\n",
       "<table border=\"1\" class=\"dataframe\">\n",
       "  <thead>\n",
       "    <tr style=\"text-align: right;\">\n",
       "      <th></th>\n",
       "      <th>date1</th>\n",
       "      <th>days</th>\n",
       "      <th>Low</th>\n",
       "      <th>predicted_low</th>\n",
       "      <th>lower_bound</th>\n",
       "      <th>upper_bound</th>\n",
       "    </tr>\n",
       "  </thead>\n",
       "  <tbody>\n",
       "    <tr>\n",
       "      <th>0</th>\n",
       "      <td>1992-11-17</td>\n",
       "      <td>97</td>\n",
       "      <td>393.52</td>\n",
       "      <td>652.277070</td>\n",
       "      <td>495.942278</td>\n",
       "      <td>808.611862</td>\n",
       "    </tr>\n",
       "    <tr>\n",
       "      <th>1</th>\n",
       "      <td>1994-07-29</td>\n",
       "      <td>716</td>\n",
       "      <td>333.92</td>\n",
       "      <td>720.693024</td>\n",
       "      <td>547.960608</td>\n",
       "      <td>893.425439</td>\n",
       "    </tr>\n",
       "    <tr>\n",
       "      <th>2</th>\n",
       "      <td>1995-02-07</td>\n",
       "      <td>909</td>\n",
       "      <td>532.49</td>\n",
       "      <td>743.458345</td>\n",
       "      <td>565.269641</td>\n",
       "      <td>921.647049</td>\n",
       "    </tr>\n",
       "    <tr>\n",
       "      <th>3</th>\n",
       "      <td>1996-01-22</td>\n",
       "      <td>1258</td>\n",
       "      <td>516.46</td>\n",
       "      <td>786.466071</td>\n",
       "      <td>597.969471</td>\n",
       "      <td>974.962670</td>\n",
       "    </tr>\n",
       "    <tr>\n",
       "      <th>4</th>\n",
       "      <td>1997-09-23</td>\n",
       "      <td>1868</td>\n",
       "      <td>1041.97</td>\n",
       "      <td>867.697545</td>\n",
       "      <td>659.731757</td>\n",
       "      <td>1075.663334</td>\n",
       "    </tr>\n",
       "    <tr>\n",
       "      <th>5</th>\n",
       "      <td>1998-08-17</td>\n",
       "      <td>2196</td>\n",
       "      <td>1070.41</td>\n",
       "      <td>914.791498</td>\n",
       "      <td>695.538446</td>\n",
       "      <td>1134.044550</td>\n",
       "    </tr>\n",
       "    <tr>\n",
       "      <th>6</th>\n",
       "      <td>1999-05-18</td>\n",
       "      <td>2470</td>\n",
       "      <td>1059.87</td>\n",
       "      <td>956.085868</td>\n",
       "      <td>726.935570</td>\n",
       "      <td>1185.236166</td>\n",
       "    </tr>\n",
       "    <tr>\n",
       "      <th>7</th>\n",
       "      <td>1999-12-27</td>\n",
       "      <td>2693</td>\n",
       "      <td>1345.35</td>\n",
       "      <td>991.066166</td>\n",
       "      <td>753.531950</td>\n",
       "      <td>1228.600383</td>\n",
       "    </tr>\n",
       "    <tr>\n",
       "      <th>8</th>\n",
       "      <td>2002-01-22</td>\n",
       "      <td>3450</td>\n",
       "      <td>1358.69</td>\n",
       "      <td>1119.639539</td>\n",
       "      <td>851.289443</td>\n",
       "      <td>1387.989635</td>\n",
       "    </tr>\n",
       "    <tr>\n",
       "      <th>9</th>\n",
       "      <td>2003-01-03</td>\n",
       "      <td>3796</td>\n",
       "      <td>1319.87</td>\n",
       "      <td>1183.836251</td>\n",
       "      <td>900.099780</td>\n",
       "      <td>1467.572721</td>\n",
       "    </tr>\n",
       "    <tr>\n",
       "      <th>10</th>\n",
       "      <td>2003-11-18</td>\n",
       "      <td>4115</td>\n",
       "      <td>1316.56</td>\n",
       "      <td>1246.279802</td>\n",
       "      <td>947.577146</td>\n",
       "      <td>1544.982458</td>\n",
       "    </tr>\n",
       "    <tr>\n",
       "      <th>11</th>\n",
       "      <td>2005-07-11</td>\n",
       "      <td>4716</td>\n",
       "      <td>1011.50</td>\n",
       "      <td>1373.011281</td>\n",
       "      <td>1043.934203</td>\n",
       "      <td>1702.088360</td>\n",
       "    </tr>\n",
       "    <tr>\n",
       "      <th>12</th>\n",
       "      <td>2008-11-04</td>\n",
       "      <td>5928</td>\n",
       "      <td>1706.70</td>\n",
       "      <td>1669.133268</td>\n",
       "      <td>1269.083023</td>\n",
       "      <td>2069.183514</td>\n",
       "    </tr>\n",
       "    <tr>\n",
       "      <th>13</th>\n",
       "      <td>2010-07-05</td>\n",
       "      <td>6536</td>\n",
       "      <td>2363.95</td>\n",
       "      <td>1840.939130</td>\n",
       "      <td>1399.711240</td>\n",
       "      <td>2282.167021</td>\n",
       "    </tr>\n",
       "    <tr>\n",
       "      <th>14</th>\n",
       "      <td>2012-01-05</td>\n",
       "      <td>7085</td>\n",
       "      <td>2148.45</td>\n",
       "      <td>2011.217174</td>\n",
       "      <td>1529.177819</td>\n",
       "      <td>2493.256530</td>\n",
       "    </tr>\n",
       "    <tr>\n",
       "      <th>15</th>\n",
       "      <td>2012-12-03</td>\n",
       "      <td>7418</td>\n",
       "      <td>1959.77</td>\n",
       "      <td>2122.084261</td>\n",
       "      <td>1613.472788</td>\n",
       "      <td>2630.695733</td>\n",
       "    </tr>\n",
       "    <tr>\n",
       "      <th>16</th>\n",
       "      <td>2013-06-27</td>\n",
       "      <td>7624</td>\n",
       "      <td>1950.01</td>\n",
       "      <td>2193.707395</td>\n",
       "      <td>1667.929617</td>\n",
       "      <td>2719.485174</td>\n",
       "    </tr>\n",
       "    <tr>\n",
       "      <th>17</th>\n",
       "      <td>2014-01-20</td>\n",
       "      <td>7831</td>\n",
       "      <td>1991.25</td>\n",
       "      <td>2268.113353</td>\n",
       "      <td>1724.502294</td>\n",
       "      <td>2811.724412</td>\n",
       "    </tr>\n",
       "    <tr>\n",
       "      <th>18</th>\n",
       "      <td>2016-01-28</td>\n",
       "      <td>8569</td>\n",
       "      <td>2655.66</td>\n",
       "      <td>2554.528158</td>\n",
       "      <td>1942.270505</td>\n",
       "      <td>3166.785810</td>\n",
       "    </tr>\n",
       "    <tr>\n",
       "      <th>2016-12-24 00:00:00</th>\n",
       "      <td>2016-12-24</td>\n",
       "      <td>8900</td>\n",
       "      <td>-1.00</td>\n",
       "      <td>2694.476422</td>\n",
       "      <td>2048.676608</td>\n",
       "      <td>3340.276235</td>\n",
       "    </tr>\n",
       "    <tr>\n",
       "      <th>2017-06-02 00:00:00</th>\n",
       "      <td>2017-06-02</td>\n",
       "      <td>9060</td>\n",
       "      <td>-1.00</td>\n",
       "      <td>2764.848500</td>\n",
       "      <td>2102.182227</td>\n",
       "      <td>3427.514772</td>\n",
       "    </tr>\n",
       "    <tr>\n",
       "      <th>2017-12-09 00:00:00</th>\n",
       "      <td>2017-12-09</td>\n",
       "      <td>9250</td>\n",
       "      <td>-1.00</td>\n",
       "      <td>2850.806360</td>\n",
       "      <td>2167.538100</td>\n",
       "      <td>3534.074620</td>\n",
       "    </tr>\n",
       "  </tbody>\n",
       "</table>\n",
       "</div>"
      ],
      "text/plain": [
       "                         date1  days      Low  predicted_low  lower_bound  \\\n",
       "0                   1992-11-17    97   393.52     652.277070   495.942278   \n",
       "1                   1994-07-29   716   333.92     720.693024   547.960608   \n",
       "2                   1995-02-07   909   532.49     743.458345   565.269641   \n",
       "3                   1996-01-22  1258   516.46     786.466071   597.969471   \n",
       "4                   1997-09-23  1868  1041.97     867.697545   659.731757   \n",
       "5                   1998-08-17  2196  1070.41     914.791498   695.538446   \n",
       "6                   1999-05-18  2470  1059.87     956.085868   726.935570   \n",
       "7                   1999-12-27  2693  1345.35     991.066166   753.531950   \n",
       "8                   2002-01-22  3450  1358.69    1119.639539   851.289443   \n",
       "9                   2003-01-03  3796  1319.87    1183.836251   900.099780   \n",
       "10                  2003-11-18  4115  1316.56    1246.279802   947.577146   \n",
       "11                  2005-07-11  4716  1011.50    1373.011281  1043.934203   \n",
       "12                  2008-11-04  5928  1706.70    1669.133268  1269.083023   \n",
       "13                  2010-07-05  6536  2363.95    1840.939130  1399.711240   \n",
       "14                  2012-01-05  7085  2148.45    2011.217174  1529.177819   \n",
       "15                  2012-12-03  7418  1959.77    2122.084261  1613.472788   \n",
       "16                  2013-06-27  7624  1950.01    2193.707395  1667.929617   \n",
       "17                  2014-01-20  7831  1991.25    2268.113353  1724.502294   \n",
       "18                  2016-01-28  8569  2655.66    2554.528158  1942.270505   \n",
       "2016-12-24 00:00:00 2016-12-24  8900    -1.00    2694.476422  2048.676608   \n",
       "2017-06-02 00:00:00 2017-06-02  9060    -1.00    2764.848500  2102.182227   \n",
       "2017-12-09 00:00:00 2017-12-09  9250    -1.00    2850.806360  2167.538100   \n",
       "\n",
       "                     upper_bound  \n",
       "0                     808.611862  \n",
       "1                     893.425439  \n",
       "2                     921.647049  \n",
       "3                     974.962670  \n",
       "4                    1075.663334  \n",
       "5                    1134.044550  \n",
       "6                    1185.236166  \n",
       "7                    1228.600383  \n",
       "8                    1387.989635  \n",
       "9                    1467.572721  \n",
       "10                   1544.982458  \n",
       "11                   1702.088360  \n",
       "12                   2069.183514  \n",
       "13                   2282.167021  \n",
       "14                   2493.256530  \n",
       "15                   2630.695733  \n",
       "16                   2719.485174  \n",
       "17                   2811.724412  \n",
       "18                   3166.785810  \n",
       "2016-12-24 00:00:00  3340.276235  \n",
       "2017-06-02 00:00:00  3427.514772  \n",
       "2017-12-09 00:00:00  3534.074620  "
      ]
     },
     "execution_count": 29,
     "metadata": {},
     "output_type": "execute_result"
    }
   ],
   "source": [
    "# 下面这个表格基本就是上面图里面的数据，不过更容易看一点。\n",
    "# Now we check a few statistics and first of all those are the data of previous chart:\n",
    "predicted_df[['date1','days','Low', 'predicted_low','lower_bound','upper_bound']]"
   ]
  },
  {
   "cell_type": "markdown",
   "metadata": {},
   "source": []
  },
  {
   "cell_type": "markdown",
   "metadata": {
    "collapsed": true
   },
   "source": [
    "上面的图中，黄色区域的上下界分别是股指底部可能上下浮动的一倍Sigma的区间。其实，大部分的时候(70%)，股指底部是出现在这个区间的。肯定有人会问的是，股指底部继续向下跌穿2048的概率是多少呢？\n",
    "\n",
    "这个问题，翻译过来就是，一个值如果低于1倍的Sigma，出现的概率是多少呢？大概是这个数："
   ]
  },
  {
   "cell_type": "code",
   "execution_count": 30,
   "metadata": {
    "collapsed": false
   },
   "outputs": [
    {
     "name": "stdout",
     "output_type": "stream",
     "text": [
      "0.158655253931\n",
      "0.841344746069\n"
     ]
    }
   ],
   "source": [
    "print(scipy.stats.norm(mu, std).cdf(mu-std))\n",
    "print(scipy.stats.norm(mu, std).cdf(mu+std))\n"
   ]
  },
  {
   "cell_type": "markdown",
   "metadata": {},
   "source": [
    "也就是说在2016年底，<font color='red'>出现比2048更低的最低值的概率有15%。但是同样有15%的概率，股指是会一直大于3340。</font> "
   ]
  },
  {
   "cell_type": "markdown",
   "metadata": {},
   "source": [
    "#我们来看一个统计情况：\n",
    "首先看一下隔多久出现一次最低值。根据下面的计算，大概最小的是193个交易日，相隔最久的是1212个交易日。我们再来看一下一年多少个交易日。根据\n",
    "[这个链接](http://zhidao.baidu.com/question/347142653.html) ，\n",
    "2001年至2010年十年间年平均交易日是240.8天。2010年的交易日是242天。不过由于周末与年的频率不一致，所以每年可能会由1天左右的上下浮动，所以比较准确的说法是(241±1)天。。\n",
    "\n",
    "也就是说最长5年里面一个最低值。5年内一直不出现最低值，应该就是传说中的牛市了吧。"
   ]
  },
  {
   "cell_type": "code",
   "execution_count": 31,
   "metadata": {
    "collapsed": false
   },
   "outputs": [
    {
     "name": "stdout",
     "output_type": "stream",
     "text": [
      "[ 619  193  349  610  328  274  223  757  346  319  601 1212  608  549  333\n",
      "  206  207  738]\n",
      "193\n",
      "1212\n"
     ]
    }
   ],
   "source": [
    "# Identify the interval of each minima\n",
    "print(np.diff(x_minima))\n",
    "print(np.amin(np.diff(x_minima)))\n",
    "print(np.amax(np.diff(x_minima)))"
   ]
  },
  {
   "cell_type": "markdown",
   "metadata": {},
   "source": [
    "#后记\n",
    "\n",
    "现在非常后悔博士论文的时候用Matlab做各种实验，等毕业了就发现其实企业界里面买个Matlab许可其实挺贵的。Python挺好使的，但是刚开始用的时候，很多东西都需要不断的google，stackoverflow，速度回比较慢。如果博士用python做论文的实验，现在也该非常熟练了。所以如果有学生看到这里，就赶紧用Python吧，就算Matlab免费给你，或者盗版很容易，也不要去用啦。\n"
   ]
  },
  {
   "cell_type": "markdown",
   "metadata": {
    "collapsed": false
   },
   "source": [
    "好了，就先练习到这里吧。以后再找别的有意义的专题练习。"
   ]
  }
 ],
 "metadata": {
  "kernelspec": {
   "display_name": "Python 2",
   "language": "python",
   "name": "python2"
  },
  "language_info": {
   "codemirror_mode": {
    "name": "ipython",
    "version": 2
   },
   "file_extension": ".py",
   "mimetype": "text/x-python",
   "name": "python",
   "nbconvert_exporter": "python",
   "pygments_lexer": "ipython2",
   "version": "2.7.11"
  }
 },
 "nbformat": 4,
 "nbformat_minor": 0
}
